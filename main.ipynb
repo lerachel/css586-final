{
 "cells": [
  {
   "cell_type": "code",
   "execution_count": 86,
   "id": "8b05cae8",
   "metadata": {},
   "outputs": [],
   "source": [
    "import dgl\n",
    "import dgl.function as fn\n",
    "import dgl.nn as dglnn\n",
    "import torch\n",
    "import torch.nn as nn\n",
    "import torch.nn.functional as F\n",
    "\n",
    "import numpy as np\n",
    "import pandas as pd\n",
    "\n",
    "from sklearn.metrics import roc_auc_score, roc_curve\n",
    "from sklearn.model_selection import train_test_split\n",
    "from sklearn.preprocessing import LabelEncoder\n",
    "from torch.utils.tensorboard import SummaryWriter\n",
    "from matplotlib import pyplot as plt"
   ]
  },
  {
   "cell_type": "code",
   "execution_count": 2,
   "id": "d9d9e0ca",
   "metadata": {},
   "outputs": [],
   "source": [
    "class HeteroDotProductPredictor(nn.Module):\n",
    "    def forward(self, graph, h, etype):\n",
    "        # h contains the node representations for each node type computed from\n",
    "        # the GNN defined in the previous section (Section 5.1).\n",
    "        with graph.local_scope():\n",
    "            graph.ndata['h'] = h\n",
    "            graph.apply_edges(fn.u_dot_v('h', 'h', 'score'), etype=etype)\n",
    "            return graph.edges[etype].data['score']"
   ]
  },
  {
   "cell_type": "code",
   "execution_count": 3,
   "id": "58765c34",
   "metadata": {},
   "outputs": [],
   "source": [
    "class RGCN(nn.Module):\n",
    "    def __init__(self, in_feats, hid_feats, out_feats, rel_names):\n",
    "        super().__init__()\n",
    "\n",
    "        self.conv1 = dglnn.HeteroGraphConv({\n",
    "            rel: dglnn.GraphConv(in_feats, hid_feats)\n",
    "            for rel in rel_names}, aggregate='sum')\n",
    "        self.conv2 = dglnn.HeteroGraphConv({\n",
    "            rel: dglnn.GraphConv(hid_feats, out_feats)\n",
    "            for rel in rel_names}, aggregate='sum')\n",
    "\n",
    "    def forward(self, graph, inputs):\n",
    "        # inputs are features of nodes\n",
    "        h = self.conv1(graph, inputs)\n",
    "        h = {k: F.leaky_relu(v) for k, v in h.items()}\n",
    "        h = self.conv2(graph, h)\n",
    "        return h"
   ]
  },
  {
   "cell_type": "code",
   "execution_count": 4,
   "id": "f7eb00ff",
   "metadata": {},
   "outputs": [],
   "source": [
    "def construct_negative_graph(graph, k, etype):\n",
    "    utype, _, vtype = etype\n",
    "    src, dst = graph.edges(etype=etype)\n",
    "    neg_src = src.repeat_interleave(k)\n",
    "    neg_dst = torch.randint(0, graph.num_nodes(vtype), (len(src) * k,))\n",
    "    return dgl.heterograph(\n",
    "        {etype: (neg_src, neg_dst)},\n",
    "        num_nodes_dict={ntype: graph.num_nodes(ntype) for ntype in graph.ntypes})"
   ]
  },
  {
   "cell_type": "code",
   "execution_count": 5,
   "id": "d92be303",
   "metadata": {},
   "outputs": [],
   "source": [
    "class Model(nn.Module):\n",
    "    def __init__(self, G, in_features, hidden_features, out_features):\n",
    "        super().__init__()\n",
    "        self.sage = RGCN(in_features, hidden_features, out_features, G.etypes)\n",
    "        self.pred = HeteroDotProductPredictor()\n",
    "\n",
    "        embed_dict = {ntype : nn.Parameter(torch.Tensor(G.number_of_nodes(ntype), in_features))\n",
    "                      for ntype in G.ntypes}\n",
    "        for key, embed in embed_dict.items():\n",
    "            nn.init.xavier_uniform_(embed)\n",
    "        self.embed = nn.ParameterDict(embed_dict)\n",
    "\n",
    "    def forward(self, g, neg_g, etype):\n",
    "        h = self.sage(g, self.embed)\n",
    "        return self.pred(g, h, etype), self.pred(neg_g, h, etype)"
   ]
  },
  {
   "cell_type": "code",
   "execution_count": 6,
   "id": "21bce836",
   "metadata": {},
   "outputs": [],
   "source": [
    "def compute_loss(pos_score, neg_score):\n",
    "    scores = torch.cat([pos_score.view(-1,), neg_score.view(-1,)])\n",
    "    labels = torch.cat([torch.ones(pos_score.shape[0]), torch.zeros(neg_score.shape[0])])\n",
    "    return F.binary_cross_entropy_with_logits(scores, labels)"
   ]
  },
  {
   "cell_type": "code",
   "execution_count": 7,
   "id": "f48d700f",
   "metadata": {},
   "outputs": [],
   "source": [
    "def compute_auc(pos_score, neg_score):\n",
    "    scores = torch.cat([pos_score.view(-1,), neg_score.view(-1,)]).numpy()\n",
    "    labels = torch.cat(\n",
    "        [torch.ones(pos_score.shape[0]), torch.zeros(neg_score.shape[0])]).numpy()\n",
    "    return roc_auc_score(labels, scores)"
   ]
  },
  {
   "cell_type": "code",
   "execution_count": 8,
   "id": "0c507562",
   "metadata": {},
   "outputs": [],
   "source": [
    "def compute_roc_curve(pos_score, neg_score):\n",
    "    scores = torch.cat([pos_score.view(-1,), neg_score.view(-1,)]).numpy()\n",
    "    labels = torch.cat(\n",
    "        [torch.ones(pos_score.shape[0]), torch.zeros(neg_score.shape[0])]).numpy()\n",
    "    return roc_curve(labels, scores, pos_label=1)"
   ]
  },
  {
   "cell_type": "code",
   "execution_count": 80,
   "id": "a84f2bc9",
   "metadata": {},
   "outputs": [],
   "source": [
    "# Open two tsv files, extract edge lists, combine datasets\n",
    "\n",
    "file1 = pd.read_csv('DG-Miner_miner-disease-gene.tsv','\\t')\n",
    "file2 = pd.read_csv('DCh-Miner_miner-disease-chemical.tsv', sep='\\t')\n",
    "file = np.concatenate( (file1.to_numpy(), file2.to_numpy()), axis=0)"
   ]
  },
  {
   "cell_type": "code",
   "execution_count": 90,
   "id": "124b342b",
   "metadata": {},
   "outputs": [],
   "source": [
    "# Extract disease, gene, chemicals\n",
    "\n",
    "disease1 = list(file1.iloc[:, 0])\n",
    "disease2 = list(file2.iloc[:, 0])\n",
    "gene = list(file1.iloc[:, 1])\n",
    "chem = list(file2.iloc[:, 1])\n",
    "\n",
    "# Combine list of diseases\n",
    "disease = disease1 + disease2\n",
    "disease = np.array(disease)\n",
    "\n",
    "# Get unique disease, chem, gene\n",
    "unique_disease = list(set(disease1 + disease2))\n",
    "unique_chem = list(set(chem))\n",
    "unique_gene = list(set(gene))"
   ]
  },
  {
   "cell_type": "code",
   "execution_count": 91,
   "id": "466e0cf2",
   "metadata": {},
   "outputs": [],
   "source": [
    "# Create lookup table\n",
    "\n",
    "disease_map = {unique_disease[i]: i for i in range(len(unique_disease))}\n",
    "gene_map =       {unique_gene[i]: i for i in range(len(unique_gene))}\n",
    "chem_map =       {unique_chem[i]: i for i in range(len(unique_chem))}"
   ]
  },
  {
   "cell_type": "code",
   "execution_count": 131,
   "id": "77c17bb8",
   "metadata": {},
   "outputs": [],
   "source": [
    "# Create numerical labels for disease, gene, chemical\n",
    "\n",
    "disease_encoder = LabelEncoder()\n",
    "gene_encoder = LabelEncoder()\n",
    "chem_encoder = LabelEncoder()\n",
    "\n",
    "encoded_disease = disease_encoder.fit_transform(disease)\n",
    "encoded_gene = gene_encoder.fit_transform(gene)\n",
    "encoded_chem = chem_encoder.fit_transform(chem)\n"
   ]
  },
  {
   "cell_type": "code",
   "execution_count": 174,
   "id": "11a738f4",
   "metadata": {},
   "outputs": [],
   "source": [
    "# Create new datasets with encoded labels\n",
    "\n",
    "encoded_gene = encoded_gene.reshape(-1,1)\n",
    "encoded_chem = encoded_chem.reshape(-1,1)\n",
    "encoded_disease = encoded_disease.reshape(-1,1)\n",
    "dataset1 = np.hstack((encoded_disease[:len(file1)], encoded_gene))\n",
    "dataset2 = np.hstack((encoded_disease[len(file1):], encoded_chem))"
   ]
  },
  {
   "cell_type": "code",
   "execution_count": 176,
   "id": "b524110b",
   "metadata": {},
   "outputs": [],
   "source": [
    "# train test split here\n",
    "# Need equal amount of training and testing samples for both types of links\n",
    "# Allocate 0.5 for each types of link\n",
    "\n",
    "# train1, test1 are disease-gene; train2, test2 are disease-chem\n",
    "train1, test1 = train_test_split(dataset1, test_size = 0.5, random_state = 101)\n",
    "train2, test2 = train_test_split(dataset2, test_size = 0.5, random_state = 101)"
   ]
  },
  {
   "cell_type": "code",
   "execution_count": 177,
   "id": "b748d13a",
   "metadata": {},
   "outputs": [],
   "source": [
    "# Create 2 heterographs: 1 for training, 1 for testing\n",
    "\n",
    "# Use train1 and train2\n",
    "train_graph = dgl.heterograph({\n",
    "    ('disease', 'relate', 'gene') : (torch.tensor(train1[:,0]), torch.tensor(train1[:,1])),\n",
    "    ('gene', 'related', 'disease') : (torch.tensor(train1[:,1]), torch.tensor(train1[:,0])),\n",
    "    ('disease', 'treated-by', 'drug') : (torch.tensor(train2[:,0]),torch.tensor(train2[:,1])),\n",
    "    ('drug', 'treats', 'disease') : (torch.tensor(train2[:,1]),torch.tensor(train2[:,0])),    \n",
    "})\n",
    "\n",
    "\n",
    "# Use test1 and test2\n",
    "test_graph = dgl.heterograph({\n",
    "    ('disease', 'relate', 'gene') : (torch.tensor(test1[:,0]), torch.tensor(test1[:,1])),\n",
    "    ('gene', 'related', 'disease') : (torch.tensor(test1[:,1]), torch.tensor(test1[:,0])),    \n",
    "    ('drug', 'treats', 'disease') : (torch.tensor(test2[:,1]),torch.tensor(test2[:,0])),\n",
    "    ('disease', 'treated-by', 'drug') : (torch.tensor(test2[:,0]),torch.tensor(test2[:,1]))\n",
    "})"
   ]
  },
  {
   "cell_type": "code",
   "execution_count": 178,
   "id": "ba06fb30",
   "metadata": {},
   "outputs": [
    {
     "data": {
      "text/plain": [
       "Graph(num_nodes={'disease': 5678, 'drug': 1663, 'gene': 17822},\n",
       "      num_edges={('disease', 'relate', 'gene'): 7754809, ('disease', 'treated-by', 'drug'): 233328, ('drug', 'treats', 'disease'): 233328, ('gene', 'related', 'disease'): 7754809},\n",
       "      metagraph=[('disease', 'gene', 'relate'), ('disease', 'drug', 'treated-by'), ('gene', 'disease', 'related'), ('drug', 'disease', 'treats')])"
      ]
     },
     "execution_count": 178,
     "metadata": {},
     "output_type": "execute_result"
    }
   ],
   "source": [
    "train_graph"
   ]
  }
 ],
 "metadata": {
  "kernelspec": {
   "display_name": "Python 3",
   "language": "python",
   "name": "python3"
  },
  "language_info": {
   "codemirror_mode": {
    "name": "ipython",
    "version": 3
   },
   "file_extension": ".py",
   "mimetype": "text/x-python",
   "name": "python",
   "nbconvert_exporter": "python",
   "pygments_lexer": "ipython3",
   "version": "3.6.10"
  }
 },
 "nbformat": 4,
 "nbformat_minor": 5
}
